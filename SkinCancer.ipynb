{
 "cells": [
  {
   "cell_type": "code",
   "execution_count": null,
   "id": "56148102-8694-4f47-b43d-e738f129db8d",
   "metadata": {},
   "outputs": [],
   "source": [
    "import numpy as np\n",
    "from skimage import io\n",
    "import matplotlib.pyplot as plt"
   ]
  },
  {
   "cell_type": "code",
   "execution_count": null,
   "id": "9b1e1abb-c552-4da9-b15e-c6e54fa7f3dc",
   "metadata": {},
   "outputs": [],
   "source": [
    "imgb = io.imread('bimg-1049.png')\n",
    "imgm = io.imread('mimg-178.png')\n",
    "imgb = io.imread('bimg-721.png')\n",
    "imgm = io.imread('mimg-57.png')"
   ]
  },
  {
   "cell_type": "code",
   "execution_count": null,
   "id": "c7b89306-edbd-4094-95a6-ed9d0b5b1177",
   "metadata": {},
   "outputs": [],
   "source": [
    "plt.figure(figsize=(10,20))\n",
    "plt.subplot(121)\n",
    "plt.imshow(imgb)\n",
    "plt.axis('off')\n",
    "plt.subplot(122)\n",
    "plt.imshow(imgm)\n",
    "plt.axis('off')"
   ]
  },
  {
   "cell_type": "code",
   "execution_count": null,
   "id": "a62d6a97-4a73-444f-86fc-f641b985aa3f",
   "metadata": {},
   "outputs": [],
   "source": [
    "from keras.models import load_model\n",
    "model = load_model('BM_VA_VGG_FULL_DA.hdf5')\n",
    "\n",
    "from keras import backend as K\n",
    "\n",
    "def activ_viewer(model, layer_name, im_put):\n",
    "    layer_dict = dict([(layer.name, layer) for layer in model.layers])\n",
    "    layer = layer_dict[layer_name]\n",
    "    activ1 = K.function([model.layers[0].input, K.learning_phase()], [layer.output,])\n",
    "    activations = activ1((im_put, False))\n",
    "    return activations\n",
    "\n",
    "def normalize(x):\n",
    "    # utility function to normalize a tensor by its L2 norm\n",
    "    return x / (K.sqrt(K.mean(K.square(x))) + 1e-5)\n",
    "\n",
    "def deprocess_image(x):\n",
    "    # normalize tensor: center on 0., ensure std is 0.1\n",
    "    x -= x.mean()\n",
    "    x /= (x.std() + 1e-5)\n",
    "    x *= 0.1\n",
    "\n",
    "    # clip to [0, 1]\n",
    "    x += 0.5\n",
    "    x = np.clip(x, 0, 1)\n",
    "\n",
    "    # convert to RGB array\n",
    "    x *= 255\n",
    "    if K.image_data_format() == 'channels_first':\n",
    "        x = x.transpose((1, 2, 0))\n",
    "    x = np.clip(x, 0, 255).astype('uint8')\n",
    "    return x\n",
    "\n",
    "def plot_filters(filters):\n",
    "    newimage = np.zeros((16*filters.shape[0],8*filters.shape[1]))\n",
    "    for i in range(filters.shape[2]):\n",
    "        y = i%8\n",
    "        x = i//8\n",
    "        newimage[x*filters.shape[0]:x*filters.shape[0]+filters.shape[0],\n",
    "                 y*filters.shape[1]:y*filters.shape[1]+filters.shape[1]] = filters[:,:,i]\n",
    "    plt.figure(figsize = (10,20))\n",
    "    plt.imshow(newimage)\n",
    "    plt.axis('off')"
   ]
  },
  {
   "cell_type": "code",
   "execution_count": null,
   "id": "1e66ae33-fe09-4f71-905f-9b3d555cc3de",
   "metadata": {},
   "outputs": [],
   "source": [
    "layer_dict = dict([(layer.name, layer) for layer in model.layers])"
   ]
  },
  {
   "cell_type": "code",
   "execution_count": null,
   "id": "af02c084-b80a-4654-be65-ac76b42cd729",
   "metadata": {},
   "outputs": [],
   "source": [
    "model.summary()"
   ]
  },
  {
   "cell_type": "code",
   "execution_count": null,
   "id": "22f7d19b-e299-496a-a0d0-e71e7c63dc58",
   "metadata": {},
   "outputs": [],
   "source": [
    "activ_benign = activ_viewer(model,'block2_conv1',imgb.reshape(1,128,128,3))\n",
    "img_benign = deprocess_image(activ_benign[0])\n",
    "plot_filters(img_benign[0])\n",
    "plt.figure(figsize=(20,20))\n",
    "for f in range(128):\n",
    "    plt.subplot(8,16,f+1)\n",
    "    plt.imshow(img_benign[0,:,:,f])\n",
    "    plt.axis('off')"
   ]
  },
  {
   "cell_type": "code",
   "execution_count": null,
   "id": "d34a4bdf-2e5e-4278-9f4f-884377c730e1",
   "metadata": {},
   "outputs": [],
   "source": [
    "activ_malign = activ_viewer(model,'block2_conv1',imgm.reshape(1,128,128,3))\n",
    "img_malign = deprocess_image(activ_malign[0])\n",
    "plot_filters(img_malign[0])\n",
    "plt.figure(figsize=(20,20))\n",
    "for f in range(128):\n",
    "    plt.subplot(8,16,f+1)\n",
    "    plt.imshow(img_malign[0,:,:,f])\n",
    "    plt.axis('off')"
   ]
  },
  {
   "cell_type": "code",
   "execution_count": null,
   "id": "781feea2-732f-4db3-b442-08f1190321dc",
   "metadata": {},
   "outputs": [],
   "source": []
  }
 ],
 "metadata": {
  "kernelspec": {
   "display_name": "Python 3 (ipykernel)",
   "language": "python",
   "name": "python3"
  },
  "language_info": {
   "codemirror_mode": {
    "name": "ipython",
    "version": 3
   },
   "file_extension": ".py",
   "mimetype": "text/x-python",
   "name": "python",
   "nbconvert_exporter": "python",
   "pygments_lexer": "ipython3",
   "version": "3.12.4"
  }
 },
 "nbformat": 4,
 "nbformat_minor": 5
}
